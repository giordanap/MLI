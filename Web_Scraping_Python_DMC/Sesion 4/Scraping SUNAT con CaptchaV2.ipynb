{
 "cells": [
  {
   "cell_type": "code",
   "execution_count": 3,
   "metadata": {},
   "outputs": [
    {
     "name": "stdout",
     "output_type": "stream",
     "text": [
      "Collecting pytesseract\n",
      "  Downloading https://files.pythonhosted.org/packages/47/e5/892d78db0d26372aa376fc1b127e9cd4cc158727a76e0802069115fcbd6e/pytesseract-0.3.0.tar.gz\n",
      "Requirement already satisfied: Pillow in c:\\programdata\\anaconda3\\lib\\site-packages (from pytesseract) (6.2.0)\n",
      "Building wheels for collected packages: pytesseract\n",
      "  Building wheel for pytesseract (setup.py): started\n",
      "  Building wheel for pytesseract (setup.py): finished with status 'done'\n",
      "  Created wheel for pytesseract: filename=pytesseract-0.3.0-py2.py3-none-any.whl size=20974 sha256=52df05378d0a57ca7d1b757877b17c9acc5b256acffb96062f798258f6723b3d\n",
      "  Stored in directory: C:\\Users\\DMC\\AppData\\Local\\pip\\Cache\\wheels\\78\\c9\\ac\\4cb76bd547f9970070522439e5203ba7926c5c5c4f131583ea\n",
      "Successfully built pytesseract\n",
      "Installing collected packages: pytesseract\n",
      "Successfully installed pytesseract-0.3.0\n",
      "Collecting selenium\n",
      "  Downloading https://files.pythonhosted.org/packages/80/d6/4294f0b4bce4de0abf13e17190289f9d0613b0a44e5dd6a7f5ca98459853/selenium-3.141.0-py2.py3-none-any.whl (904kB)\n",
      "Requirement already satisfied: urllib3 in c:\\programdata\\anaconda3\\lib\\site-packages (from selenium) (1.24.2)\n",
      "Installing collected packages: selenium\n",
      "Successfully installed selenium-3.141.0\n"
     ]
    }
   ],
   "source": [
    "import requests\n",
    "from bs4 import BeautifulSoup\n",
    "import re\n",
    "import sys\n",
    "import argparse\n",
    "# from selenium import webdriver\n",
    "from io import BytesIO\n",
    "\n",
    "try:\n",
    "    import pytesseract\n",
    "except:\n",
    "    !pip install pytesseract  \n",
    "    import pytesseract\n",
    "\n",
    "try:\n",
    "    from PIL import Image\n",
    "except:\n",
    "    !pip install PIL #manejo de imagines\n",
    "    from PIL import Image\n",
    "\n",
    "try:\n",
    "    from selenium.webdriver import Chrome\n",
    "except:\n",
    "    !pip install selenium\n",
    "    from selenium.webdriver import Chrome\n",
    "\n",
    "pytesseract.pytesseract.tesseract_cmd = 'C:\\Program Files\\Tesseract-OCR\\\\tesseract.exe'  #aqui le vamos a mandar la direccion del ejecutable de teserac"
   ]
  },
  {
   "cell_type": "code",
   "execution_count": 6,
   "metadata": {},
   "outputs": [],
   "source": [
    "driver = Chrome('chromedriver.exe')  #chromedriver_win32/chromedriver.exe lo primero es la carpeta\n",
    "link = 'http://www.sunat.gob.pe/cl-ti-itmrconsruc/FrameCriterioBusquedaMovil.jsp'\n",
    "driver.get(link)\n",
    "# levantar en Home el chromedriver\n",
    "# el resultado es que me abre la pagina de sunat\n",
    "# "
   ]
  },
  {
   "cell_type": "code",
   "execution_count": 22,
   "metadata": {},
   "outputs": [],
   "source": [
    "driver.implicitly_wait(10) # este es el tiempo maximo que debo esperar 10 seg, buscar un elemento x nombre\n",
    "element = driver.find_element_by_name('imagen') # aqui tenemos el elemento seleccionado osea el captcha\n",
    "\n",
    "pos = element.location #guardamos location y luego size\n",
    "size = element.size\n",
    "png = driver.get_screenshot_as_png() #guarda un screenshot del navegador\n",
    "\n",
    "img = Image.open(BytesIO(png)) #  \n",
    "left = pos['x']\n",
    "top = pos['y']\n",
    "right = pos['x'] + size['width']\n",
    "bottom = pos['y'] + size['height']\n",
    "img = img.crop((left, top, right, bottom)) # se le da las 4 esquinas ya cortadas, aqui solo queda la imagen del captcha\n",
    "\n",
    "captcha = pytesseract.image_to_string(img) # se va almacenar en el captcha"
   ]
  },
  {
   "cell_type": "code",
   "execution_count": 23,
   "metadata": {},
   "outputs": [
    {
     "data": {
      "text/plain": [
       "'WRAK'"
      ]
     },
     "execution_count": 23,
     "metadata": {},
     "output_type": "execute_result"
    }
   ],
   "source": [
    "captcha"
   ]
  },
  {
   "cell_type": "code",
   "execution_count": 24,
   "metadata": {
    "scrolled": true
   },
   "outputs": [],
   "source": [
    "ruc = '10749304389'\n",
    "#ruc = '10107224527'\n",
    "# con estas 3 lineas estamos llenado el formulario\n",
    "driver.find_element_by_id('txtRuc').send_keys(ruc)  \n",
    "driver.find_element_by_id('txtCodigo').send_keys(captcha)\n",
    "driver.find_element_by_id('btnAceptar').click() \n",
    "#FUNCION .click (tercer linea)\n",
    "#driver.implicitly_wait(10) # demora en cargar los resultados\n",
    "#html = driver.find_element_by_class_name('list-group').get_attribute('innerHTML') #"
   ]
  },
  {
   "cell_type": "code",
   "execution_count": 25,
   "metadata": {},
   "outputs": [],
   "source": [
    "driver.implicitly_wait(10) # demora en cargar los resultados\n",
    "html = driver.find_element_by_class_name('list-group').get_attribute('innerHTML') #aqui es scrpear sobre codigo html\n",
    "# lo guardamos en una variable html\n",
    "# "
   ]
  },
  {
   "cell_type": "code",
   "execution_count": 26,
   "metadata": {},
   "outputs": [],
   "source": [
    "content = BeautifulSoup(html, 'html.parser')"
   ]
  },
  {
   "cell_type": "code",
   "execution_count": 27,
   "metadata": {},
   "outputs": [
    {
     "data": {
      "text/plain": [
       "\n",
       "<!-- Inicio filas de datos -->\n",
       "<div class=\"list-group-item\">\n",
       "<div class=\"row\">\n",
       "<div class=\"col-sm-5\">\n",
       "<h4 class=\"list-group-item-heading\">RUC:</h4>\n",
       "</div>\n",
       "<div class=\"col-sm-7\">\n",
       "<h4 class=\"list-group-item-heading\">10749304389 - TUYA RODRIGUEZ PAULO CESAR</h4>\n",
       "</div>\n",
       "</div>\n",
       "</div>\n",
       "<div class=\"list-group-item\">\n",
       "<div class=\"row\">\n",
       "<div class=\"col-sm-5\">\n",
       "<h4 class=\"list-group-item-heading\">Tipo Contribuyente:</h4>\n",
       "</div>\n",
       "<div class=\"col-sm-7\">\n",
       "<p class=\"list-group-item-text\">PERSONA NATURAL SIN NEGOCIO</p>\n",
       "</div>\n",
       "</div>\n",
       "</div>\n",
       "<div class=\"list-group-item\">\n",
       "<div class=\"row\">\n",
       "<div class=\"col-sm-5\">\n",
       "<h4 class=\"list-group-item-heading\">Tipo de Documento:</h4>\n",
       "</div>\n",
       "<div class=\"col-sm-7\">\n",
       "<p class=\"list-group-item-text\">DNI  74930438 \n",
       "\t\t\t\t\t\t            \n",
       "\t\t\t\t\t\t            \t - TUYA RODRIGUEZ, PAULO CESAR\n",
       "\t\t\t\t\t\t            \t\n",
       "\t\t\t\t\t\t            </p>\n",
       "</div>\n",
       "</div>\n",
       "</div>\n",
       "<div class=\"list-group-item\">\n",
       "<div class=\"row\">\n",
       "<div class=\"col-sm-5\">\n",
       "<h4 class=\"list-group-item-heading\">Nombre Comercial:</h4>\n",
       "</div>\n",
       "<div class=\"col-sm-7\">\n",
       "<p class=\"list-group-item-text\">-\n",
       "\t\t\t\t\t              \n",
       "\t\t\t\t\t            </p>\n",
       "</div>\n",
       "</div>\n",
       "</div>\n",
       "<div class=\"list-group-item\">\n",
       "<div class=\"row\">\n",
       "<div class=\"col-sm-5\">\n",
       "<h4 class=\"list-group-item-heading\">Fecha de Inscripción:</h4>\n",
       "</div>\n",
       "<div class=\"col-sm-7\">\n",
       "<p class=\"list-group-item-text\">17/05/2018</p>\n",
       "</div>\n",
       "</div>\n",
       "</div>\n",
       "<div class=\"list-group-item list-group-item-success\">\n",
       "<div class=\"row\">\n",
       "<div class=\"col-sm-5\">\n",
       "<h4 class=\"list-group-item-heading\">Estado:</h4>\n",
       "</div>\n",
       "<div class=\"col-sm-7\">\n",
       "<p class=\"list-group-item-text\">ACTIVO\n",
       "\t                         \t\n",
       "\t\t\t\t\t                 \n",
       "\t\t\t\t\t                \n",
       "\t                         \t</p>\n",
       "</div>\n",
       "</div>\n",
       "</div>\n",
       "<div class=\"list-group-item list-group-item-success\">\n",
       "<div class=\"row\">\n",
       "<div class=\"col-sm-5\">\n",
       "<h4 class=\"list-group-item-heading\">Condición:</h4>\n",
       "</div>\n",
       "<div class=\"col-sm-7\">\n",
       "<p class=\"list-group-item-text\">\n",
       "\t\t                         \t\n",
       "\t\t\t\t\t\t              \tHABIDO\n",
       "\t\t\t\t\t\t              \n",
       "\n",
       "\t\t\t\t\t\t\t\t</p>\n",
       "</div>\n",
       "</div>\n",
       "</div>\n",
       "<div class=\"list-group-item\">\n",
       "<div class=\"row\">\n",
       "<div class=\"col-sm-5\">\n",
       "<h4 class=\"list-group-item-heading\">Domicilio Fiscal:</h4>\n",
       "</div>\n",
       "<div class=\"col-sm-7\">\n",
       "<p class=\"list-group-item-text\">-</p>\n",
       "</div>\n",
       "</div>\n",
       "</div>\n",
       "<div class=\"list-group-item\">\n",
       "<div class=\"row\">\n",
       "<div class=\"col-sm-5\">\n",
       "<h4 class=\"list-group-item-heading\">Actividad(es) Económica(s):</h4>\n",
       "</div>\n",
       "<div class=\"col-sm-7\">\n",
       "<table class=\"table tblResultado\">\n",
       "<tbody>\n",
       "<tr><td>Principal        - CIIU 93098 - OTRAS ACTIVID.DE TIPO SERVICIO NCP</td></tr>\n",
       "</tbody>\n",
       "</table>\n",
       "</div>\n",
       "</div>\n",
       "</div>\n",
       "<div class=\"list-group-item\">\n",
       "<div class=\"row\">\n",
       "<div class=\"col-sm-5\">\n",
       "<h4 class=\"list-group-item-heading\">Comprobantes de Pago c/aut. de impresión (F. 806 u 816):</h4>\n",
       "</div>\n",
       "<div class=\"col-sm-7\">\n",
       "<table class=\"table tblResultado\">\n",
       "<tbody>\n",
       "<tr><td>NINGUNO</td></tr>\n",
       "</tbody>\n",
       "</table>\n",
       "</div>\n",
       "</div>\n",
       "</div>\n",
       "<div class=\"list-group-item\">\n",
       "<div class=\"row\">\n",
       "<div class=\"col-sm-5\">\n",
       "<h4 class=\"list-group-item-heading\">Sistema de Emisión Electrónica:</h4>\n",
       "</div>\n",
       "<div class=\"col-sm-7\">\n",
       "<table class=\"table tblResultado\">\n",
       "<tbody>\n",
       "<tr><td>RECIBOS POR HONORARIOS     AFILIADO DESDE 21/05/2018</td></tr>\n",
       "</tbody>\n",
       "</table>\n",
       "</div>\n",
       "</div>\n",
       "</div>\n",
       "<div class=\"list-group-item\">\n",
       "<div class=\"row\">\n",
       "<div class=\"col-sm-5\">\n",
       "<h4 class=\"list-group-item-heading\">Afiliado al PLE desde:</h4>\n",
       "</div>\n",
       "<div class=\"col-sm-7\">\n",
       "<p class=\"list-group-item-text\">-</p>\n",
       "</div>\n",
       "</div>\n",
       "</div>\n",
       "<div class=\"list-group-item\">\n",
       "<div class=\"row\">\n",
       "<div class=\"col-sm-5\">\n",
       "<h4 class=\"list-group-item-heading\">Padrones:</h4>\n",
       "</div>\n",
       "<div class=\"col-sm-7\">\n",
       "<table class=\"table tblResultado\">\n",
       "<tbody>\n",
       "<!-- JRR - 20/09/2010 - Se añade cambio de Igor -->\n",
       "<tr><td>NINGUNO</td></tr>\n",
       "</tbody>\n",
       "</table>\n",
       "</div>\n",
       "</div>\n",
       "</div>\n",
       "<!-- <div class=\"list-group-item\">\n",
       "\t\t\t\t    \t<div class=\"row\">\n",
       "\t\t\t\t    \t\t<div class=\"col-sm-5\">\n",
       "\t                         \t<h4 class=\"list-group-item-heading\">Razón Social:</h4>\n",
       "\t                         </div>\n",
       "\t                         <div class=\"col-sm-7\">\n",
       "\t                         \t<p class=\"list-group-item-text\">eeee</p>\n",
       "\t                         </div>\n",
       "\t\t\t\t    \t</div>  \n",
       "\t\t\t        </div> -->"
      ]
     },
     "execution_count": 27,
     "metadata": {},
     "output_type": "execute_result"
    }
   ],
   "source": [
    "content"
   ]
  },
  {
   "cell_type": "code",
   "execution_count": 28,
   "metadata": {},
   "outputs": [],
   "source": [
    "inforuc = {}\n",
    "# inforuc es el direcccionario vacio q se va a llenar\n",
    "info = content.select('.list-group-item')\n",
    "# el select por defecto devuelve todo lo q encuentre, q encuentre todos los list group item\n",
    "for elem in info:\n",
    "    key = elem.find(class_='col-sm-5').find('h4').text[:-1].strip() # [:-1] para eliminar los dos puntos, find h4 es otra etiqueta dentro. text=nos devuelve el texto dentro de la etiqueta, -1\n",
    "    data = elem.find(class_='col-sm-7').text.strip() #\n",
    "    inforuc[key] = data"
   ]
  },
  {
   "cell_type": "code",
   "execution_count": 29,
   "metadata": {},
   "outputs": [
    {
     "data": {
      "text/plain": [
       "{'RUC': '10749304389 - TUYA RODRIGUEZ PAULO CESAR',\n",
       " 'Tipo Contribuyente': 'PERSONA NATURAL SIN NEGOCIO',\n",
       " 'Tipo de Documento': 'DNI  74930438 \\n\\t\\t\\t\\t\\t\\t            \\n\\t\\t\\t\\t\\t\\t            \\t - TUYA RODRIGUEZ, PAULO CESAR',\n",
       " 'Nombre Comercial': '-',\n",
       " 'Fecha de Inscripción': '17/05/2018',\n",
       " 'Estado': 'ACTIVO',\n",
       " 'Condición': 'HABIDO',\n",
       " 'Domicilio Fiscal': '-',\n",
       " 'Actividad(es) Económica(s)': 'Principal        - CIIU 93098 - OTRAS ACTIVID.DE TIPO SERVICIO NCP',\n",
       " 'Comprobantes de Pago c/aut. de impresión (F. 806 u 816)': 'NINGUNO',\n",
       " 'Sistema de Emisión Electrónica': 'RECIBOS POR HONORARIOS     AFILIADO DESDE 21/05/2018',\n",
       " 'Afiliado al PLE desde': '-',\n",
       " 'Padrones': 'NINGUNO'}"
      ]
     },
     "execution_count": 29,
     "metadata": {},
     "output_type": "execute_result"
    }
   ],
   "source": [
    "inforuc"
   ]
  },
  {
   "cell_type": "code",
   "execution_count": 30,
   "metadata": {},
   "outputs": [],
   "source": [
    "driver.find_element_by_class_name('btnNuevaConsulta').click() # es para devolver"
   ]
  },
  {
   "cell_type": "code",
   "execution_count": 31,
   "metadata": {},
   "outputs": [],
   "source": [
    "driver.quit()"
   ]
  },
  {
   "cell_type": "code",
   "execution_count": null,
   "metadata": {},
   "outputs": [],
   "source": [
    "        "
   ]
  }
 ],
 "metadata": {
  "kernelspec": {
   "display_name": "Python 3",
   "language": "python",
   "name": "python3"
  },
  "language_info": {
   "codemirror_mode": {
    "name": "ipython",
    "version": 3
   },
   "file_extension": ".py",
   "mimetype": "text/x-python",
   "name": "python",
   "nbconvert_exporter": "python",
   "pygments_lexer": "ipython3",
   "version": "3.7.4"
  }
 },
 "nbformat": 4,
 "nbformat_minor": 2
}
