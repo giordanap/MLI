{
 "cells": [
  {
   "cell_type": "code",
   "execution_count": 39,
   "metadata": {},
   "outputs": [],
   "source": [
    "import requests\n",
    "from bs4 import BeautifulSoup\n",
    "import re\n",
    "import sys\n",
    "import argparse\n",
    "from selenium import webdriver\n",
    "from io import BytesIO\n",
    "\n",
    "try:\n",
    "    import pytesseract\n",
    "except:\n",
    "    !pip install pytesseract\n",
    "    import pytesseract\n",
    "\n",
    "try:\n",
    "    from PIL import Image\n",
    "except:\n",
    "    !pip install PIL\n",
    "    from PIL import Image\n",
    "\n",
    "try:\n",
    "    from selenium.webdriver import Chrome\n",
    "except:\n",
    "    !pip install selenium\n",
    "    from selenium.webdriver import Chrome\n",
    "\n",
    "pytesseract.pytesseract.tesseract_cmd = 'C:\\Program Files\\Tesseract-OCR\\\\tesseract.exe'"
   ]
  },
  {
   "cell_type": "code",
   "execution_count": 73,
   "metadata": {},
   "outputs": [],
   "source": [
    "driver = Chrome('chromedriver_win32/chromedriver.exe')\n",
    "link = 'http://www.sunat.gob.pe/cl-ti-itmrconsruc/FrameCriterioBusquedaMovil.jsp'\n",
    "driver.get(link)"
   ]
  },
  {
   "cell_type": "code",
   "execution_count": 74,
   "metadata": {},
   "outputs": [],
   "source": [
    "driver.implicitly_wait(10)\n",
    "element = driver.find_element_by_name('imagen')\n",
    "\n",
    "pos = element.location\n",
    "size = element.size\n",
    "png = driver.get_screenshot_as_png()\n",
    "\n",
    "img = Image.open(BytesIO(png))\n",
    "left = pos['x']\n",
    "top = pos['y']\n",
    "right = pos['x'] + size['width']\n",
    "bottom = pos['y'] + size['height']\n",
    "img = img.crop((left, top, right, bottom))\n",
    "\n",
    "captcha = pytesseract.image_to_string(img)"
   ]
  },
  {
   "cell_type": "code",
   "execution_count": 75,
   "metadata": {
    "scrolled": true
   },
   "outputs": [],
   "source": [
    "ruc = '10749304389'\n",
    "\n",
    "driver.find_element_by_id('txtRuc').send_keys(ruc)\n",
    "driver.find_element_by_id('txtCodigo').send_keys(captcha)\n",
    "driver.find_element_by_id('btnAceptar').click()\n",
    "\n",
    "driver.implicitly_wait(10)\n",
    "html = driver.find_element_by_class_name('list-group').get_attribute('innerHTML')"
   ]
  },
  {
   "cell_type": "code",
   "execution_count": 76,
   "metadata": {},
   "outputs": [],
   "source": [
    "content = BeautifulSoup(html, 'html.parser')"
   ]
  },
  {
   "cell_type": "code",
   "execution_count": 77,
   "metadata": {},
   "outputs": [],
   "source": [
    "inforuc = {}\n",
    "\n",
    "info = content.select('.list-group-item')\n",
    "\n",
    "for elem in info:\n",
    "    key = elem.find(class_='col-sm-5').find('h4').text[:-1].strip() # [:-1] para eliminar los dos puntos\n",
    "    data = elem.find(class_='col-sm-7').text.strip()\n",
    "    inforuc[key] = data"
   ]
  },
  {
   "cell_type": "code",
   "execution_count": 78,
   "metadata": {},
   "outputs": [
    {
     "data": {
      "text/plain": [
       "{'RUC': '10749304389 - TUYA RODRIGUEZ PAULO CESAR',\n",
       " 'Tipo Contribuyente': 'PERSONA NATURAL SIN NEGOCIO',\n",
       " 'Tipo de Documento': 'DNI  74930438 \\n\\t\\t\\t\\t\\t\\t            \\n\\t\\t\\t\\t\\t\\t            \\t - TUYA RODRIGUEZ, PAULO CESAR',\n",
       " 'Nombre Comercial': '-',\n",
       " 'Fecha de Inscripción': '17/05/2018',\n",
       " 'Estado': 'ACTIVO',\n",
       " 'Condición': 'HABIDO',\n",
       " 'Domicilio Fiscal': '-',\n",
       " 'Actividad(es) Económica(s)': 'Principal        - CIIU 93098 - OTRAS ACTIVID.DE TIPO SERVICIO NCP',\n",
       " 'Comprobantes de Pago c/aut. de impresión (F. 806 u 816)': 'NINGUNO',\n",
       " 'Sistema de Emisión Electrónica': 'RECIBOS POR HONORARIOS     AFILIADO DESDE 21/05/2018',\n",
       " 'Afiliado al PLE desde': '-',\n",
       " 'Padrones': 'NINGUNO'}"
      ]
     },
     "execution_count": 78,
     "metadata": {},
     "output_type": "execute_result"
    }
   ],
   "source": [
    "inforuc"
   ]
  },
  {
   "cell_type": "code",
   "execution_count": 79,
   "metadata": {},
   "outputs": [],
   "source": [
    "driver.find_element_by_class_name('btnNuevaConsulta').click()"
   ]
  },
  {
   "cell_type": "code",
   "execution_count": 80,
   "metadata": {},
   "outputs": [],
   "source": [
    "driver.quit()"
   ]
  }
 ],
 "metadata": {
  "kernelspec": {
   "display_name": "Python 3",
   "language": "python",
   "name": "python3"
  },
  "language_info": {
   "codemirror_mode": {
    "name": "ipython",
    "version": 3
   },
   "file_extension": ".py",
   "mimetype": "text/x-python",
   "name": "python",
   "nbconvert_exporter": "python",
   "pygments_lexer": "ipython3",
   "version": "3.6.7"
  }
 },
 "nbformat": 4,
 "nbformat_minor": 2
}
