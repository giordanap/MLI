{
  "nbformat": 4,
  "nbformat_minor": 0,
  "metadata": {
    "colab": {
      "name": "Clase03_Ejercicio1.ipynb",
      "provenance": [],
      "collapsed_sections": []
    },
    "kernelspec": {
      "name": "python2",
      "display_name": "Python 2"
    }
  },
  "cells": [
    {
      "cell_type": "code",
      "metadata": {
        "id": "0xL_tzQP9Skh",
        "colab_type": "code",
        "colab": {}
      },
      "source": [
        ""
      ],
      "execution_count": 0,
      "outputs": []
    },
    {
      "cell_type": "code",
      "metadata": {
        "id": "kITye8fNFN3r",
        "colab_type": "code",
        "colab": {}
      },
      "source": [
        "# Instalando el scrapy en sesion\n",
        "try:\n",
        "  import scrapy\n",
        "except:\n",
        "  !pip install scrapy \n",
        "  #signo de exclamacion es comando de consola\n",
        "  import scrapy\n",
        "from scrapy.crawler import CrawlerProcess #funcion\n",
        "import re #libreria de expresiones regulares\n",
        "import logging"
      ],
      "execution_count": 0,
      "outputs": []
    },
    {
      "cell_type": "code",
      "metadata": {
        "id": "2Nm6ljiEFOF4",
        "colab_type": "code",
        "colab": {}
      },
      "source": [
        "# si sale error, ir a RAM conectar a un entorno de ejecucion alojado y luego en Entono de ejecucion (menu): Reiniciar y Ejecutar todo"
      ],
      "execution_count": 0,
      "outputs": []
    },
    {
      "cell_type": "code",
      "metadata": {
        "id": "rnAtHyslFONQ",
        "colab_type": "code",
        "colab": {}
      },
      "source": [
        "# DIseñar nuestra funcion de pipeline es una serie de funciones q vamos a aplicar a nuestra data nuestro item\n",
        "#process item: significa \n",
        "#dict item se esta convirtiendo en un diccionario\n",
        "# [ ] con el corchete extraemos la cita que estamos buscando\n",
        "# splitlines=nos permite dividir por lineas este texto\n",
        "# .* significa q acepta lo que sea\n",
        "# retur= loq devulve es nuestra cita\n",
        "# lo q queremos hacer a nuestra data = pipeline\n",
        "# remove borra etiqueta de html\n",
        "class ExtractLinePipeline (object):\n",
        "  def process_item (self, item, spider):\n",
        "      lines=dict (item)[\"quote\"].splitlines()\n",
        "      first_line=self.remove_tags(lines[0])\n",
        "      #print (first_line)\n",
        "      return{'quote':first_line}\n",
        "\n",
        "  def remove_tags (self,text):\n",
        "      html_tags =re.compile ('<.*?>')\n",
        "      return re.sub(html_tags,'',text)\n",
        "\n",
        "# primero definimos la clase con spider\n",
        "# cone el name con el mismo nombre de la clase\n",
        "# si las urls estan en prural quiere decir q acepta mas urls\n",
        "# un spider a la hora de parsear puede devolver un item (data) o un request\n",
        "# loggin.warning=\n",
        "# pipeline tu le dices todo lo que quieres sacar\n",
        "# la funcion FEED nos permite guardar de todo lo q nuestro pipeline le decimos\n",
        "class MarxQuoresSpider(scrapy.Spider):\n",
        "  name=\n",
        "'LOG_LEVEL': logging.WARNING, # con esto reducimos el numero de mensajes que recibimos\n",
        "'ITEM_PIPELINES':{''}\n",
        "\n",
        "\n",
        "  def parse (self, response):\n",
        "      for quote in responde.css('dic.mw-parser-output > ul > li'):\n",
        "        #print (quote)\n",
        "        yield {'quote': quote.extract()}"
      ],
      "execution_count": 0,
      "outputs": []
    },
    {
      "cell_type": "code",
      "metadata": {
        "id": "DUduz8ElFORH",
        "colab_type": "code",
        "colab": {}
      },
      "source": [
        "# la funcion parse me va a permitir llevar la data a una base estructurada\n",
        "# ul es la etiqueta q abre una lista, el css lo q busca es q me devuelva una lista con todos los elementos\n",
        "# yield= frase reservada de python, captura todos los valores"
      ],
      "execution_count": 0,
      "outputs": []
    },
    {
      "cell_type": "code",
      "metadata": {
        "id": "pdGZCviYLgce",
        "colab_type": "code",
        "colab": {}
      },
      "source": [
        "\n",
        "\n"
      ],
      "execution_count": 0,
      "outputs": []
    },
    {
      "cell_type": "code",
      "metadata": {
        "id": "JDEe2VxLLggl",
        "colab_type": "code",
        "colab": {}
      },
      "source": [
        ""
      ],
      "execution_count": 0,
      "outputs": []
    },
    {
      "cell_type": "code",
      "metadata": {
        "id": "9okBvpy6LglW",
        "colab_type": "code",
        "colab": {}
      },
      "source": [
        ""
      ],
      "execution_count": 0,
      "outputs": []
    },
    {
      "cell_type": "code",
      "metadata": {
        "id": "C_r8x4c4FOUh",
        "colab_type": "code",
        "colab": {}
      },
      "source": [
        ""
      ],
      "execution_count": 0,
      "outputs": []
    }
  ]
}