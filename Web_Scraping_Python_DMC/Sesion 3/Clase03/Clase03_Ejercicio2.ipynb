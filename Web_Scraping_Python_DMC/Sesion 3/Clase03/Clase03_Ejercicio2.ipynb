{
  "nbformat": 4,
  "nbformat_minor": 0,
  "metadata": {
    "colab": {
      "name": "Clase03_Ejercicio2.ipynb",
      "provenance": [],
      "collapsed_sections": []
    },
    "kernelspec": {
      "name": "python3",
      "display_name": "Python 3"
    }
  },
  "cells": [
    {
      "cell_type": "code",
      "metadata": {
        "id": "FL6nRzd6VtH_",
        "colab_type": "code",
        "colab": {}
      },
      "source": [
        "# EJERCICIO 2 de la clase\n",
        "# scrapear frases\n",
        "# es un crawler\n",
        "\n",
        "# Instalando el scrapy en sesion\n",
        "try:\n",
        "  import scrapy\n",
        "except:\n",
        "  !pip install scrapy \n",
        "  #signo de exclamacion es comando de consola\n",
        "  import scrapy\n",
        "from scrapy.crawler import CrawlerProcess #funcion\n",
        "\n",
        "import logging\n",
        "import jason"
      ],
      "execution_count": 0,
      "outputs": []
    },
    {
      "cell_type": "code",
      "metadata": {
        "id": "vGgQ7iRmV3qN",
        "colab_type": "code",
        "colab": {}
      },
      "source": [
        "# funciones del pipeline, open, close, process\n",
        "# open , utilidad= lo utilizo para abrir un archivo y poder escribir sobre ese archivo\n",
        "# w lo abre solo en escritura\n",
        "# json archivo conformado por valores, lista, atributos, puede ser un diccionario, colecciones de diccionarios\n",
        "# \"/n\" salto de linea\n",
        "# retur = devuelve el objeto (item)\n",
        "# una de las funciones del pipeline es modificar el item\n",
        "\n",
        "\n",
        "class JsonWriterPipeline(object):\n",
        "\n",
        "    def open_spider(self, spider):\n",
        "        self.file=open ('quoteresult.jl', 'w')\n",
        "\n",
        "    def close_spider (self, spider):\n",
        "        self.file.close()\n",
        "\n",
        "    def process_item(self, item, spider):\n",
        "        line=json.dumps(dict(item)) + \"\""
      ],
      "execution_count": 0,
      "outputs": []
    },
    {
      "cell_type": "code",
      "metadata": {
        "id": "MavyaPNpV3xj",
        "colab_type": "code",
        "colab": {}
      },
      "source": [
        ""
      ],
      "execution_count": 0,
      "outputs": []
    },
    {
      "cell_type": "code",
      "metadata": {
        "id": "C9Yc37FQV31t",
        "colab_type": "code",
        "colab": {}
      },
      "source": [
        "# es una pagina donde puesde entrenar tu scraping\n",
        "# quotes.com\n",
        "# custom_setting = \n",
        "# jl = \n",
        "# div quoere = todas las etiquetas div\n",
        "# extract () =devuelve la lista, las etiquetas , todo ello en la funcion parse"
      ],
      "execution_count": 0,
      "outputs": []
    },
    {
      "cell_type": "code",
      "metadata": {
        "id": "1P8Taoi-V341",
        "colab_type": "code",
        "colab": {}
      },
      "source": [
        ""
      ],
      "execution_count": 0,
      "outputs": []
    },
    {
      "cell_type": "code",
      "metadata": {
        "id": "RfHMCSaeV37l",
        "colab_type": "code",
        "colab": {}
      },
      "source": [
        ""
      ],
      "execution_count": 0,
      "outputs": []
    }
  ]
}